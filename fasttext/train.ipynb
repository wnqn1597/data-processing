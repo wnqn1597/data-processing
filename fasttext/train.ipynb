{
 "cells": [
  {
   "cell_type": "code",
   "execution_count": 3,
   "id": "0076ceaf",
   "metadata": {},
   "outputs": [
    {
     "data": {
      "application/vnd.jupyter.widget-view+json": {
       "model_id": "f7eb4b46dd2947818ede51a19a251e1d",
       "version_major": 2,
       "version_minor": 0
      },
      "text/plain": [
       "Resolving data files:   0%|          | 0/114 [00:00<?, ?it/s]"
      ]
     },
     "metadata": {},
     "output_type": "display_data"
    },
    {
     "data": {
      "application/vnd.jupyter.widget-view+json": {
       "model_id": "882cd5cfbcba417a87aa294f221ffa3e",
       "version_major": 2,
       "version_minor": 0
      },
      "text/plain": [
       "Resolving data files:   0%|          | 0/25868 [00:00<?, ?it/s]"
      ]
     },
     "metadata": {},
     "output_type": "display_data"
    }
   ],
   "source": [
    "import os\n",
    "import random\n",
    "from datasets import load_dataset\n",
    "\n",
    "math_data_dir = \"data/math\"\n",
    "web_data_dir = \"data/web\"\n",
    "\n",
    "n = 50000\n",
    "n_test = 5000\n",
    "num_math_samples = n\n",
    "num_web_samples = n + n_test\n",
    "\n",
    "os.makedirs(math_data_dir, exist_ok=True)\n",
    "os.makedirs(web_data_dir, exist_ok=True)\n",
    "\n",
    "math_data = load_dataset(\n",
    "    \"open-web-math/open-web-math\",\n",
    "    cache_dir=math_data_dir,\n",
    "    split=\"train\",\n",
    "    streaming=True,\n",
    ")\n",
    "web_data = load_dataset(\n",
    "    \"HuggingFaceFW/fineweb\",\n",
    "    \"sample-10BT\",\n",
    "    cache_dir=web_data_dir,\n",
    "    split=\"train\",\n",
    "    streaming=True\n",
    ")\n",
    "math_data = math_data.take(num_math_samples)\n",
    "web_data = web_data.take(num_web_samples)"
   ]
  },
  {
   "cell_type": "code",
   "execution_count": 4,
   "id": "0d5ca721",
   "metadata": {},
   "outputs": [
    {
     "name": "stdout",
     "output_type": "stream",
     "text": [
      "50000 50000 5000\n",
      "100000 5000\n"
     ]
    }
   ],
   "source": [
    "math_data_list = list(math_data)\n",
    "web_data_list = list(web_data)\n",
    "web_data_list_train = web_data_list[:n]\n",
    "test_data_list = web_data_list[n:]\n",
    "print(len(math_data_list), len(web_data_list_train), len(test_data_list))\n",
    "data = []\n",
    "for item in math_data_list:\n",
    "    data.append({\n",
    "        \"text\": item[\"text\"],\n",
    "        \"label\": \"__label__positive\"\n",
    "    })\n",
    "for item in web_data_list_train:\n",
    "    data.append({\n",
    "        \"text\": item[\"text\"],\n",
    "        \"label\": \"__label__negative\"\n",
    "    })\n",
    "random.shuffle(data)\n",
    "\n",
    "test_data = []\n",
    "for item in test_data_list:\n",
    "    test_data.append(item[\"text\"])\n",
    "print(len(data), len(test_data))"
   ]
  },
  {
   "cell_type": "code",
   "execution_count": 5,
   "id": "c3c7e64c",
   "metadata": {},
   "outputs": [],
   "source": [
    "with open(\"data.txt\", \"w\") as f:\n",
    "    for item in data:\n",
    "        f.write(f\"{item[\"label\"]} {item[\"text\"].replace(\"\\n\", \" \")}\\n\")"
   ]
  },
  {
   "cell_type": "code",
   "execution_count": 6,
   "id": "7c5d027c",
   "metadata": {},
   "outputs": [],
   "source": [
    "import fasttext\n",
    "\n",
    "model = fasttext.train_supervised(input=\"data.txt\", epoch=10, lr=0.5, wordNgrams=2)"
   ]
  },
  {
   "cell_type": "code",
   "execution_count": 7,
   "id": "9a7711aa",
   "metadata": {},
   "outputs": [
    {
     "data": {
      "text/plain": [
       "(10996, 0.9891778828664969, 0.9891778828664969)"
      ]
     },
     "execution_count": 7,
     "metadata": {},
     "output_type": "execute_result"
    }
   ],
   "source": [
    "model.test(\"data.txt\")"
   ]
  },
  {
   "cell_type": "code",
   "execution_count": 8,
   "id": "74f83803",
   "metadata": {},
   "outputs": [],
   "source": [
    "with open(\"predict.txt\", \"w\") as f:\n",
    "    for text in test_data:\n",
    "        text = text.replace(\"\\n\", \" \")\n",
    "        label, _ = model.predict(text)\n",
    "        f.write(f\"{label[0]} {text}\\n\")\n"
   ]
  }
 ],
 "metadata": {
  "kernelspec": {
   "display_name": "base",
   "language": "python",
   "name": "python3"
  },
  "language_info": {
   "codemirror_mode": {
    "name": "ipython",
    "version": 3
   },
   "file_extension": ".py",
   "mimetype": "text/x-python",
   "name": "python",
   "nbconvert_exporter": "python",
   "pygments_lexer": "ipython3",
   "version": "3.12.7"
  }
 },
 "nbformat": 4,
 "nbformat_minor": 5
}
